{
 "cells": [
  {
   "cell_type": "markdown",
   "metadata": {},
   "source": [
    "# LAB 1: Probability Concepts, Indepdenece and Random Variables\n",
    "\n",
    "In this lab you will use python to study the following topics:\n",
    "\n",
    "- How to simulate random experiment outcomes using numpy arrays.\n",
    "- How to estimate the probability of an event using the relative frequency approach.\n",
    "- Simulate independent events.\n",
    "- Calculate arthemitic mean, sample variance, and sample standard deviation for a dataset.\n",
    "- Calculate covariance and correlation coeffecient of two random variables.\n"
   ]
  },
  {
   "cell_type": "markdown",
   "metadata": {},
   "source": [
    "# First: you should run this cell"
   ]
  },
  {
   "cell_type": "code",
   "execution_count": 1,
   "metadata": {},
   "outputs": [],
   "source": [
    "# Make all numpy available via shorter 'np' prefix\n",
    "import numpy as np\n",
    "\n",
    "# matplotlib library\n",
    "import matplotlib.pyplot as plt\n",
    "\n",
    "import pandas as pd"
   ]
  },
  {
   "cell_type": "markdown",
   "metadata": {},
   "source": [
    "# Problem 1\n",
    "\n",
    "Use numpy to simulate the vector outcomes for repeating the following random experiments $1000$ times and use the relative frequency to compute the probability of the corresponding events:\n",
    "    \n",
    "1. **Experiment:** Flipping a fair coin, **Event:** A head occurs.\n",
    "     \n",
    "Observe how changing the number of repetition affects the computed probabilities.\n",
    "\n",
    "**Hints:** \n",
    "- Use [numpy.random.randint](https://numpy.org/doc/stable/reference/random/generated/numpy.random.randint.html) or [numpy.random.choice](https://numpy.org/doc/stable/reference/random/generated/numpy.random.choice.html) to simulate the experiment.\n",
    "- Other useful functions [numpy.arange](https://numpy.org/doc/stable/reference/generated/numpy.arange.html), [numpy.cumsum](https://numpy.org/doc/stable/reference/generated/numpy.cumsum.html), [numpy.sum](https://numpy.org/doc/stable/reference/generated/numpy.sum.html), and [matplotlib.pyplot.plot](https://matplotlib.org/stable/api/_as_gen/matplotlib.pyplot.plot.html)"
   ]
  },
  {
   "cell_type": "code",
   "execution_count": null,
   "metadata": {},
   "outputs": [
    {
     "name": "stdout",
     "output_type": "stream",
     "text": [
      "n = 10 , P(e) 0.6\n",
      "----------------------------------\n",
      "n = 50 , P(e) 0.54\n",
      "----------------------------------\n",
      "n = 100 , P(e) 0.49\n",
      "----------------------------------\n",
      "n = 500 , P(e) 0.524\n",
      "----------------------------------\n",
      "n = 1000 , P(e) 0.495\n",
      "----------------------------------\n",
      "n = 5000 , P(e) 0.504\n",
      "----------------------------------\n",
      "n = 10000 , P(e) 0.4992\n",
      "----------------------------------\n",
      "n = 50000 , P(e) 0.49914\n",
      "----------------------------------\n",
      "n = 100000 , P(e) 0.50035\n",
      "----------------------------------\n"
     ]
    },
    {
     "data": {
      "text/plain": [
       "<matplotlib.lines.Line2D at 0x28609c12d50>"
      ]
     },
     "execution_count": 27,
     "metadata": {},
     "output_type": "execute_result"
    },
    {
     "data": {
      "image/png": "[encoded data removed]",
      "text/plain": [
       "<Figure size 640x480 with 1 Axes>"
      ]
     },
     "metadata": {},
     "output_type": "display_data"
    }
   ],
   "source": [
    "# supose that h \"head\"  = 1   ,,, T tail = 0\n",
    "n = np.random.choice((0,1) , size=10)\n",
    "print(f\"n = 10 , P(e) {n.sum()/10}\") \n",
    "print(\"----------------------------------\")\n",
    "n = np.random.choice((0,1) , size=50)\n",
    "print(f\"n = 50 , P(e) {n.sum()/50}\") \n",
    "print(\"----------------------------------\")\n",
    "n = np.random.choice((0,1) , size=100)\n",
    "print(f\"n = 100 , P(e) {n.sum()/100}\") \n",
    "print(\"----------------------------------\")\n",
    "n = np.random.choice((0,1) , size=500)\n",
    "print(f\"n = 500 , P(e) {n.sum()/500}\") \n",
    "print(\"----------------------------------\")\n",
    "n = np.random.choice((0,1) , size=1000)\n",
    "print(f\"n = 1000 , P(e) {n.sum()/1000}\") \n",
    "print(\"----------------------------------\")\n",
    "n = np.random.choice((0,1) , size=5000)\n",
    "print(f\"n = 5000 , P(e) {n.sum()/5000}\") \n",
    "print(\"----------------------------------\")\n",
    "n = np.random.choice((0,1) , size=10000)\n",
    "print(f\"n = 10000 , P(e) {n.sum()/10000}\") \n",
    "print(\"----------------------------------\")\n",
    "n = np.random.choice((0,1) , size=50000)\n",
    "print(f\"n = 50000 , P(e) {n.sum()/50000}\") \n",
    "print(\"----------------------------------\")\n",
    "n = np.random.choice((0,1) , size=100000)\n",
    "print(f\"n = 100000 , P(e) {n.sum()/100000}\") \n",
    "print(\"----------------------------------\")\n",
    "\n",
    "\n",
    "arr = np.arange(1,len(n)+1)\n",
    "x = n.cumsum() / arr\n",
    "plt.plot(x)\n",
    "plt.axhline(1/2,color=\"r\")     # as a optimal line "
   ]
  },
  {
   "cell_type": "code",
   "execution_count": 2,
   "metadata": {},
   "outputs": [
    {
     "name": "stdout",
     "output_type": "stream",
     "text": [
      "n = 10, P(e) = 0.6\n",
      "-----------------------------------------\n",
      "n = 50, P(e) = 0.48\n",
      "-----------------------------------------\n",
      "n = 100, P(e) = 0.52\n",
      "-----------------------------------------\n",
      "n = 500, P(e) = 0.498\n",
      "-----------------------------------------\n",
      "n = 1000, P(e) = 0.475\n",
      "-----------------------------------------\n",
      "n = 5000, P(e) = 0.4998\n",
      "-----------------------------------------\n",
      "n = 10000, P(e) = 0.5022\n",
      "-----------------------------------------\n",
      "n = 50000, P(e) = 0.5011\n",
      "-----------------------------------------\n",
      "n = 100000, P(e) = 0.49788\n",
      "-----------------------------------------\n"
     ]
    },
    {
     "data": {
      "text/plain": [
       "<matplotlib.lines.Line2D at 0x15b5ea184c0>"
      ]
     },
     "execution_count": 2,
     "metadata": {},
     "output_type": "execute_result"
    },
    {
     "data": {
      "image/png": "[encoded data removed]",
      "text/plain": [
       "<Figure size 432x288 with 1 Axes>"
      ]
     },
     "metadata": {
      "needs_background": "light"
     },
     "output_type": "display_data"
    }
   ],
   "source": [
    "#type your code here:\n"
   ]
  },
  {
   "cell_type": "markdown",
   "metadata": {},
   "source": [
    "2. **Experiment:** Rolling a fair die, **Event:** Number 5 occurs."
   ]
  },
  {
   "cell_type": "code",
   "execution_count": 40,
   "metadata": {},
   "outputs": [
    {
     "name": "stdout",
     "output_type": "stream",
     "text": [
      "n = 10 , P(e) 0.1\n",
      "----------------------------------\n",
      "n = 50 , P(e) 0.14\n",
      "----------------------------------\n",
      "n = 100 , P(e) 0.18\n",
      "----------------------------------\n",
      "n = 500 , P(e) 0.164\n",
      "----------------------------------\n",
      "n = 1000 , P(e) 0.16\n",
      "----------------------------------\n",
      "n = 5000 , P(e) 0.173\n",
      "----------------------------------\n",
      "n = 10000 , P(e) 0.1635\n",
      "----------------------------------\n",
      "n = 50000 , P(e) 0.16874\n",
      "----------------------------------\n",
      "n = 100000 , P(e) 0.16529\n",
      "----------------------------------\n"
     ]
    },
    {
     "data": {
      "text/plain": [
       "<matplotlib.lines.Line2D at 0x28610540f50>"
      ]
     },
     "execution_count": 40,
     "metadata": {},
     "output_type": "execute_result"
    },
    {
     "data": {
      "image/png": "[encoded data removed]",
      "text/plain": [
       "<Figure size 640x480 with 1 Axes>"
      ]
     },
     "metadata": {},
     "output_type": "display_data"
    }
   ],
   "source": [
    "x = np.random.randint( 1,7, size=10)\n",
    "print(f\"n = 10 , P(e) {(x == 5).sum() / len(x)}\") \n",
    "print(\"----------------------------------\")\n",
    "x = np.random.randint(1,7 , size=50)\n",
    "print(f\"n = 50 , P(e) {(x == 5).sum() / len(x)}\") \n",
    "print(\"----------------------------------\")\n",
    "x = np.random.randint(1,7 , size=100)\n",
    "print(f\"n = 100 , P(e) {(x == 5).sum() / len(x)}\") \n",
    "print(\"----------------------------------\")\n",
    "x = np.random.randint(1,7 , size=500)\n",
    "print(f\"n = 500 , P(e) {(x == 5).sum() / len(x)}\") \n",
    "print(\"----------------------------------\")\n",
    "x = np.random.randint(1,7 , size=1000)\n",
    "print(f\"n = 1000 , P(e) {(x == 5).sum() / len(x)}\") \n",
    "print(\"----------------------------------\")\n",
    "x = np.random.randint(1,7 , size=5000)\n",
    "print(f\"n = 5000 , P(e) {(x == 5).sum() / len(x)}\") \n",
    "print(\"----------------------------------\")\n",
    "x = np.random.randint(1,7 , size=10000)\n",
    "print(f\"n = 10000 , P(e) {(x == 5).sum() / len(x)}\") \n",
    "print(\"----------------------------------\")\n",
    "x = np.random.randint(1,7 , size=50000)\n",
    "print(f\"n = 50000 , P(e) {(x == 5).sum() / len(x)}\") \n",
    "print(\"----------------------------------\")\n",
    "x = np.random.randint(1,7 , size=100000)\n",
    "print(f\"n = 100000 , P(e) {(x == 5).sum() / len(x)}\") \n",
    "print(\"----------------------------------\")\n",
    "\n",
    "\n",
    "arr = np.arange(1,len(x)+1)\n",
    "s = (x == 5).cumsum() / arr\n",
    "plt.plot(s)\n",
    "plt.axhline(1/6,color=\"r\")     # as a optimal line \n"
   ]
  },
  {
   "cell_type": "code",
   "execution_count": 3,
   "metadata": {},
   "outputs": [
    {
     "name": "stdout",
     "output_type": "stream",
     "text": [
      "n = 10, P(e) = 0.2\n",
      "-----------------------------------------\n",
      "n = 50, P(e) = 0.12\n",
      "-----------------------------------------\n",
      "n = 100, P(e) = 0.19\n",
      "-----------------------------------------\n",
      "n = 500, P(e) = 0.166\n",
      "-----------------------------------------\n",
      "n = 1000, P(e) = 0.151\n",
      "-----------------------------------------\n",
      "n = 5000, P(e) = 0.1648\n",
      "-----------------------------------------\n",
      "n = 10000, P(e) = 0.1663\n",
      "-----------------------------------------\n",
      "n = 50000, P(e) = 0.1661\n",
      "-----------------------------------------\n",
      "n = 100000, P(e) = 0.16817\n",
      "-----------------------------------------\n"
     ]
    },
    {
     "data": {
      "text/plain": [
       "<matplotlib.lines.Line2D at 0x15b5f1cf0d0>"
      ]
     },
     "execution_count": 3,
     "metadata": {},
     "output_type": "execute_result"
    },
    {
     "data": {
      "image/png": "[encoded data removed]",
      "text/plain": [
       "<Figure size 432x288 with 1 Axes>"
      ]
     },
     "metadata": {
      "needs_background": "light"
     },
     "output_type": "display_data"
    }
   ],
   "source": [
    "#type your code here:\n"
   ]
  },
  {
   "cell_type": "markdown",
   "metadata": {},
   "source": [
    "3. **Experiment:** Rolling a fair die, **Event:** A number greater than 3 occurs."
   ]
  },
  {
   "cell_type": "code",
   "execution_count": 49,
   "metadata": {},
   "outputs": [
    {
     "name": "stdout",
     "output_type": "stream",
     "text": [
      "n = 10 , P(e) 0.7\n",
      "----------------------------------\n",
      "n = 50 , P(e) 0.58\n",
      "----------------------------------\n",
      "n = 100 , P(e) 0.55\n",
      "----------------------------------\n",
      "n = 500 , P(e) 0.492\n",
      "----------------------------------\n",
      "n = 1000 , P(e) 0.468\n",
      "----------------------------------\n",
      "n = 5000 , P(e) 0.5002\n",
      "----------------------------------\n",
      "n = 10000 , P(e) 0.5076\n",
      "----------------------------------\n",
      "n = 50000 , P(e) 0.50028\n",
      "----------------------------------\n",
      "n = 100000 , P(e) 0.50074\n",
      "----------------------------------\n"
     ]
    },
    {
     "data": {
      "text/plain": [
       "<matplotlib.lines.Line2D at 0x28613258050>"
      ]
     },
     "execution_count": 49,
     "metadata": {},
     "output_type": "execute_result"
    },
    {
     "data": {
      "image/png": "[encoded data removed]",
      "text/plain": [
       "<Figure size 640x480 with 1 Axes>"
      ]
     },
     "metadata": {},
     "output_type": "display_data"
    }
   ],
   "source": [
    "x = np.random.randint( 1,7, size=10)\n",
    "print(f\"n = 10 , P(e) {(x > 3).sum() / len(x)}\") \n",
    "print(\"----------------------------------\")\n",
    "x = np.random.randint(1,7 , size=50)\n",
    "print(f\"n = 50 , P(e) {(x > 3).sum() / len(x)}\") \n",
    "print(\"----------------------------------\")\n",
    "x = np.random.randint(1,7 , size=100)\n",
    "print(f\"n = 100 , P(e) {(x > 3).sum() / len(x)}\") \n",
    "print(\"----------------------------------\")\n",
    "x = np.random.randint(1,7 , size=500)\n",
    "print(f\"n = 500 , P(e) {(x > 3).sum() / len(x)}\") \n",
    "print(\"----------------------------------\")\n",
    "x = np.random.randint(1,7 , size=1000)\n",
    "print(f\"n = 1000 , P(e) {(x > 3).sum() / len(x)}\") \n",
    "print(\"----------------------------------\")\n",
    "x = np.random.randint(1,7 , size=5000)\n",
    "print(f\"n = 5000 , P(e) {(x > 3).sum() / len(x)}\") \n",
    "print(\"----------------------------------\")\n",
    "x = np.random.randint(1,7 , size=10000)\n",
    "print(f\"n = 10000 , P(e) {(x > 3).sum() / len(x)}\") \n",
    "print(\"----------------------------------\")\n",
    "x = np.random.randint(1,7 , size=50000)\n",
    "print(f\"n = 50000 , P(e) {(x > 3).sum() / len(x)}\") \n",
    "print(\"----------------------------------\")\n",
    "x = np.random.randint(1,7 , size=100000)\n",
    "print(f\"n = 100000 , P(e) {(x > 3).sum() / len(x)}\") \n",
    "print(\"----------------------------------\")\n",
    "\n",
    "\n",
    "arr = np.arange(1,len(x)+1)\n",
    "s = (x > 3).cumsum() / arr\n",
    "plt.plot(s)\n",
    "plt.axhline(1/2,color=\"r\")     # as a optimal line \n"
   ]
  },
  {
   "cell_type": "code",
   "execution_count": 4,
   "metadata": {},
   "outputs": [
    {
     "name": "stdout",
     "output_type": "stream",
     "text": [
      "n = 10, P(e) = 0.6\n",
      "-----------------------------------------\n",
      "n = 50, P(e) = 0.48\n",
      "-----------------------------------------\n",
      "n = 100, P(e) = 0.44\n",
      "-----------------------------------------\n",
      "n = 500, P(e) = 0.496\n",
      "-----------------------------------------\n",
      "n = 1000, P(e) = 0.489\n",
      "-----------------------------------------\n",
      "n = 5000, P(e) = 0.5052\n",
      "-----------------------------------------\n",
      "n = 10000, P(e) = 0.4962\n",
      "-----------------------------------------\n",
      "n = 50000, P(e) = 0.49842\n",
      "-----------------------------------------\n",
      "n = 100000, P(e) = 0.49983\n",
      "-----------------------------------------\n"
     ]
    },
    {
     "data": {
      "text/plain": [
       "<matplotlib.lines.Line2D at 0x15b5f24f070>"
      ]
     },
     "execution_count": 4,
     "metadata": {},
     "output_type": "execute_result"
    },
    {
     "data": {
      "image/png": "[encoded data removed]",
      "text/plain": [
       "<Figure size 432x288 with 1 Axes>"
      ]
     },
     "metadata": {
      "needs_background": "light"
     },
     "output_type": "display_data"
    }
   ],
   "source": [
    "#type your code here:\n"
   ]
  },
  {
   "cell_type": "markdown",
   "metadata": {},
   "source": [
    "4. **Experiment:** Rolling two fair dice, **Event:** Sum of two dice equal 5."
   ]
  },
  {
   "cell_type": "code",
   "execution_count": 65,
   "metadata": {},
   "outputs": [
    {
     "name": "stdout",
     "output_type": "stream",
     "text": [
      "n = 10 , P(e) 0.0\n",
      "----------------------------------\n",
      "n = 50 , P(e) 0.06\n",
      "----------------------------------\n",
      "n = 100 , P(e) 0.16\n",
      "----------------------------------\n",
      "n = 500 , P(e) 0.114\n",
      "----------------------------------\n",
      "n = 1000 , P(e) 0.11\n",
      "----------------------------------\n",
      "n = 5000 , P(e) 0.1108\n",
      "----------------------------------\n",
      "n = 10000 , P(e) 0.1141\n",
      "----------------------------------\n",
      "n = 50000 , P(e) 0.11038\n",
      "----------------------------------\n",
      "n = 100000 , P(e) 0.11024\n",
      "----------------------------------\n"
     ]
    },
    {
     "data": {
      "text/plain": [
       "<matplotlib.lines.Line2D at 0x2861904e990>"
      ]
     },
     "execution_count": 65,
     "metadata": {},
     "output_type": "execute_result"
    },
    {
     "data": {
      "image/png": "[encoded data removed]",
      "text/plain": [
       "<Figure size 640x480 with 1 Axes>"
      ]
     },
     "metadata": {},
     "output_type": "display_data"
    }
   ],
   "source": [
    "x = np.random.randint( 1,7, size=(10,2))\n",
    "x = x.sum(axis=1)\n",
    "print(f\"n = 10 , P(e) {(x == 5).sum() / x.shape[0]}\") \n",
    "print(\"----------------------------------\")\n",
    "x = np.random.randint(1,7 , size=(50,2))\n",
    "x = x.sum(axis=1)\n",
    "print(f\"n = 50 , P(e) {(x == 5).sum()/ x.shape[0]}\") \n",
    "print(\"----------------------------------\")\n",
    "x = np.random.randint(1,7 , size=(100,2))\n",
    "x = x.sum(axis=1)\n",
    "print(f\"n = 100 , P(e) {(x == 5).sum() / x.shape[0]}\") \n",
    "print(\"----------------------------------\")\n",
    "x = np.random.randint(1,7 , size=(500,2))\n",
    "x = x.sum(axis=1)\n",
    "print(f\"n = 500 , P(e) {(x == 5).sum() / x.shape[0]}\") \n",
    "print(\"----------------------------------\")\n",
    "x = np.random.randint(1,7 , size=(1000,2))\n",
    "x = x.sum(axis=1)\n",
    "print(f\"n = 1000 , P(e) {(x == 5).sum() / x.shape[0]}\") \n",
    "print(\"----------------------------------\")\n",
    "x = np.random.randint(1,7 , size=(5000,2))\n",
    "x = x.sum(axis=1)\n",
    "print(f\"n = 5000 , P(e) {(x == 5).sum() / x.shape[0]}\") \n",
    "print(\"----------------------------------\")\n",
    "x = np.random.randint(1,7 , size=(10000,2))\n",
    "x = x.sum(axis=1)\n",
    "print(f\"n = 10000 , P(e) {(x == 5).sum() / x.shape[0]}\") \n",
    "print(\"----------------------------------\")\n",
    "x = np.random.randint(1,7 , size=(50000,2))\n",
    "x = x.sum(axis=1)\n",
    "print(f\"n = 50000 , P(e) {(x == 5).sum() / x.shape[0]}\") \n",
    "print(\"----------------------------------\")\n",
    "x = np.random.randint(1,7 , size=(100000,2))\n",
    "x = x.sum(axis=1)\n",
    "print(f\"n = 100000 , P(e) {(x == 5).sum() / x.shape[0]}\") \n",
    "print(\"----------------------------------\")\n",
    "\n",
    "\n",
    "arr = np.arange(1,x.shape[0]+1)\n",
    "s = (x == 5).cumsum() / arr\n",
    "plt.plot(s)\n",
    "plt.axhline(0.11,color=\"r\")    \n"
   ]
  },
  {
   "cell_type": "code",
   "execution_count": 5,
   "metadata": {},
   "outputs": [
    {
     "name": "stdout",
     "output_type": "stream",
     "text": [
      "n = 10, P(e) = 0.1\n",
      "-----------------------------------------\n",
      "n = 50, P(e) = 0.04\n",
      "-----------------------------------------\n",
      "n = 100, P(e) = 0.11\n",
      "-----------------------------------------\n",
      "n = 500, P(e) = 0.116\n",
      "-----------------------------------------\n",
      "n = 1000, P(e) = 0.112\n",
      "-----------------------------------------\n",
      "n = 5000, P(e) = 0.1134\n",
      "-----------------------------------------\n",
      "n = 10000, P(e) = 0.1056\n",
      "-----------------------------------------\n",
      "n = 50000, P(e) = 0.10812\n",
      "-----------------------------------------\n",
      "n = 100000, P(e) = 0.10955\n",
      "-----------------------------------------\n"
     ]
    },
    {
     "data": {
      "text/plain": [
       "<matplotlib.lines.Line2D at 0x15b5f2b5ee0>"
      ]
     },
     "execution_count": 5,
     "metadata": {},
     "output_type": "execute_result"
    },
    {
     "data": {
      "image/png": "[encoded data removed]",
      "text/plain": [
       "<Figure size 432x288 with 1 Axes>"
      ]
     },
     "metadata": {
      "needs_background": "light"
     },
     "output_type": "display_data"
    }
   ],
   "source": [
    "#type your code here:\n"
   ]
  },
  {
   "cell_type": "markdown",
   "metadata": {},
   "source": [
    "# Problem 2\n",
    "\n",
    "Simulate the experiment of tossing $1000$ times a coin with probability of **head (coded as $1$) equal to $0.4$** and probability of **tail (coded as $0$) equal to $0.6$**. How can you check if the simulation of the experiment of been running as expected.\n",
    "\n",
    "**Hint**: Use [matplotlib.pyplot.hist¶\n",
    "](https://matplotlib.org/stable/api/_as_gen/matplotlib.pyplot.hist.html)"
   ]
  },
  {
   "cell_type": "code",
   "execution_count": 14,
   "metadata": {},
   "outputs": [
    {
     "name": "stdout",
     "output_type": "stream",
     "text": [
      "percentage of heads 41.3%\n"
     ]
    },
    {
     "data": {
      "image/png": "[encoded data removed]",
      "text/plain": [
       "<Figure size 640x480 with 1 Axes>"
      ]
     },
     "metadata": {},
     "output_type": "display_data"
    }
   ],
   "source": [
    "n = np.random.choice([1,0],size=1000,p=(.4,.6))\n",
    "head_perc = n.sum() / len(n)\n",
    "print(f\"percentage of heads {head_perc * 100}%\")\n",
    "tail = 1 - head_perc\n",
    "\n",
    "fig, ax = plt.subplots()\n",
    "ax.bar(x=['tail', 'head'], height=[tail, head_perc],width=.2)  \n",
    "plt.show()"
   ]
  },
  {
   "cell_type": "code",
   "execution_count": 6,
   "metadata": {},
   "outputs": [
    {
     "data": {
      "image/png": "[encoded data removed]",
      "text/plain": [
       "<Figure size 432x288 with 1 Axes>"
      ]
     },
     "metadata": {
      "needs_background": "light"
     },
     "output_type": "display_data"
    }
   ],
   "source": [
    "#type your code here:\n"
   ]
  },
  {
   "cell_type": "markdown",
   "metadata": {},
   "source": [
    "# Problem 3: Independence\n",
    "\n",
    "Use NumPy to create simulations and compute **empirical  probability** for the following outcomes. Compare the results with the **theoretical probability**.\n",
    "\n",
    "1. Two fair coin flips produce exactly two heads"
   ]
  },
  {
   "cell_type": "code",
   "execution_count": 19,
   "metadata": {},
   "outputs": [
    {
     "name": "stdout",
     "output_type": "stream",
     "text": [
      "Empirical Probability 0.2507\n"
     ]
    }
   ],
   "source": [
    "simulations = 1000000\n",
    "n = np.random.choice([1, 0], size=(simulations, 2))\n",
    "two_heads = np.sum(np.sum(n, axis=1) == 2)    # head + head , 1+1 = 2\n",
    "\n",
    "empirical_prob = two_heads / simulations\n",
    "\n",
    "print(f\"Empirical Probability {empirical_prob:.4f}\")\n"
   ]
  },
  {
   "cell_type": "code",
   "execution_count": 7,
   "metadata": {},
   "outputs": [
    {
     "data": {
      "text/plain": [
       "0.249809"
      ]
     },
     "execution_count": 7,
     "metadata": {},
     "output_type": "execute_result"
    }
   ],
   "source": [
    "#type your code here:\n",
    "\n",
    "# simulate 1 million tests of two fair coin flips\n",
    "\n",
    "\n",
    "# sums of all tests\n",
    "\n",
    "\n",
    "# proportion of tests that produced exactly two heads\n"
   ]
  },
  {
   "cell_type": "markdown",
   "metadata": {},
   "source": [
    "2. Three fair coin flips produce exactly one head"
   ]
  },
  {
   "cell_type": "code",
   "execution_count": 20,
   "metadata": {},
   "outputs": [
    {
     "name": "stdout",
     "output_type": "stream",
     "text": [
      "Empirical Probability 0.3746\n"
     ]
    }
   ],
   "source": [
    "simulations = 1000000\n",
    "n = np.random.choice([1, 0], size=(simulations, 3))\n",
    "one_heads = np.sum(np.sum(n, axis=1) == 1)    \n",
    "\n",
    "empirical_prob = one_heads / simulations\n",
    "\n",
    "print(f\"Empirical Probability {empirical_prob:.4f}\")"
   ]
  },
  {
   "cell_type": "code",
   "execution_count": 8,
   "metadata": {},
   "outputs": [
    {
     "data": {
      "text/plain": [
       "0.374819"
      ]
     },
     "execution_count": 8,
     "metadata": {},
     "output_type": "execute_result"
    }
   ],
   "source": [
    "#type your code here:\n",
    "\n",
    "# simulate 1 million tests of three fair coin flips\n",
    "\n",
    "\n",
    "# sums of all tests\n",
    "\n",
    "\n",
    "# proportion of tests that produced exactly one head\n"
   ]
  },
  {
   "cell_type": "markdown",
   "metadata": {},
   "source": [
    "3. Three biased coin flips with P(H) = 0.6 produce exactly one head"
   ]
  },
  {
   "cell_type": "code",
   "execution_count": 21,
   "metadata": {},
   "outputs": [
    {
     "name": "stdout",
     "output_type": "stream",
     "text": [
      "Empirical Probability 0.2881\n"
     ]
    }
   ],
   "source": [
    "simulations = 1000000\n",
    "n = np.random.choice([1, 0], size=(simulations, 3),p=[0.6,0.4])\n",
    "one_heads = np.sum(np.sum(n, axis=1) == 1)    \n",
    "\n",
    "empirical_prob = one_heads / simulations\n",
    "\n",
    "print(f\"Empirical Probability {empirical_prob:.4f}\")"
   ]
  },
  {
   "cell_type": "code",
   "execution_count": 9,
   "metadata": {},
   "outputs": [
    {
     "data": {
      "text/plain": [
       "0.288288"
      ]
     },
     "execution_count": 9,
     "metadata": {},
     "output_type": "execute_result"
    }
   ],
   "source": [
    "#type your code here:\n",
    "\n",
    "\n",
    "# simulate 1 million tests of three biased coin flips\n",
    "# hint: use np.random.choice()\n",
    "\n",
    "\n",
    "# sums of all tests\n",
    "\n",
    "\n",
    "# proportion of tests that produced exactly one head\n"
   ]
  },
  {
   "cell_type": "markdown",
   "metadata": {},
   "source": [
    "# Problem 4:Random Variables Statistical Tools\n",
    "Simulate Rolling a fair die $1000$ times. Then calculate the following:\n",
    "\n",
    "- Sample mean\n",
    "- Sample variance\n",
    "- Sample standard deviation\n",
    "\n",
    "Compare the results with the theoretical probability."
   ]
  },
  {
   "cell_type": "code",
   "execution_count": 25,
   "metadata": {},
   "outputs": [
    {
     "name": "stdout",
     "output_type": "stream",
     "text": [
      "3.407\n",
      "2.9673510000000007\n",
      "1.7226000696621375\n",
      "theoretical Mean 3.5\n",
      "theoretical Variance  2.9167\n",
      "theoretical Standard Deviation  1.7078\n"
     ]
    }
   ],
   "source": [
    "simulations = 1000\n",
    "n = np.random.randint(1,7 ,simulations)\n",
    "\n",
    "mean = np.mean(n)\n",
    "variance = np.var(n)\n",
    "std = np.std(n)\n",
    "\n",
    "print(mean)\n",
    "print(variance)\n",
    "print(std)\n",
    "\n",
    "print(f\"theoretical Mean 3.5\")\n",
    "print(f\"theoretical Variance  2.9167\")\n",
    "print(f\"theoretical Standard Deviation  1.7078\")"
   ]
  },
  {
   "cell_type": "code",
   "execution_count": 10,
   "metadata": {},
   "outputs": [
    {
     "name": "stdout",
     "output_type": "stream",
     "text": [
      "Sample mean: 3.463\n",
      "Sample variance: 3.005636636636637\n",
      "Sample standard deviation: 1.7336772008181445\n",
      "3.463\n",
      "3.005636636636637\n",
      "1.7336772008181445\n"
     ]
    }
   ],
   "source": [
    "#type your code here:\n"
   ]
  },
  {
   "cell_type": "markdown",
   "metadata": {},
   "source": [
    "# Problem 5: Correlation and Covariance\n",
    "\n",
    "The CSV file includes a hourly/daily summary for Szeged, Hungary area, between 2006 and 2016. After inspecting the data:\n",
    "\n",
    "- Calculate the covariance and correlation coeffecient between temperature and apparent temperature\n",
    "- Calculate the covariance and correlation coeffecient between temperature and humidity"
   ]
  },
  {
   "cell_type": "code",
   "execution_count": 27,
   "metadata": {},
   "outputs": [],
   "source": [
    "df = pd.read_excel('weatherHistory.xlsx')\n",
    "temperature = df['Temperature (C)'].to_numpy().reshape(-1, 1)\n",
    "apparant_temp = df['Apparent Temperature (C)'].to_numpy().reshape(-1, 1)\n",
    "humidity = df['Humidity'].to_numpy().reshape(-1, 1)"
   ]
  },
  {
   "cell_type": "code",
   "execution_count": 28,
   "metadata": {},
   "outputs": [
    {
     "data": {
      "text/plain": [
       "Text(0, 0.5, 'Apparent Temperature (C)')"
      ]
     },
     "execution_count": 28,
     "metadata": {},
     "output_type": "execute_result"
    },
    {
     "data": {
      "image/png": "[encoded data removed]",
      "text/plain": [
       "<Figure size 640x480 with 1 Axes>"
      ]
     },
     "metadata": {},
     "output_type": "display_data"
    }
   ],
   "source": [
    "plt.scatter(temperature, apparant_temp)\n",
    "plt.grid()\n",
    "plt.xlabel('Temperature (C)')\n",
    "plt.ylabel('Apparent Temperature (C)')"
   ]
  },
  {
   "cell_type": "code",
   "execution_count": 29,
   "metadata": {},
   "outputs": [
    {
     "data": {
      "text/plain": [
       "Text(0, 0.5, 'Temperature (C)')"
      ]
     },
     "execution_count": 29,
     "metadata": {},
     "output_type": "execute_result"
    },
    {
     "data": {
      "image/png": "[encoded data removed]",
      "text/plain": [
       "<Figure size 640x480 with 1 Axes>"
      ]
     },
     "metadata": {},
     "output_type": "display_data"
    }
   ],
   "source": [
    "plt.scatter(humidity, temperature)\n",
    "plt.grid()\n",
    "plt.xlabel('Humidity')\n",
    "plt.ylabel('Temperature (C)')"
   ]
  },
  {
   "cell_type": "markdown",
   "metadata": {},
   "source": [
    "## Temperature and Apparent Temperature"
   ]
  },
  {
   "cell_type": "code",
   "execution_count": 30,
   "metadata": {},
   "outputs": [
    {
     "data": {
      "text/html": [
       "<div>\n",
       "<style scoped>\n",
       "    .dataframe tbody tr th:only-of-type {\n",
       "        vertical-align: middle;\n",
       "    }\n",
       "\n",
       "    .dataframe tbody tr th {\n",
       "        vertical-align: top;\n",
       "    }\n",
       "\n",
       "    .dataframe thead th {\n",
       "        text-align: right;\n",
       "    }\n",
       "</style>\n",
       "<table border=\"1\" class=\"dataframe\">\n",
       "  <thead>\n",
       "    <tr style=\"text-align: right;\">\n",
       "      <th></th>\n",
       "      <th>Temperature (C)</th>\n",
       "      <th>Apparent Temperature (C)</th>\n",
       "      <th>Humidity</th>\n",
       "    </tr>\n",
       "  </thead>\n",
       "  <tbody>\n",
       "    <tr>\n",
       "      <th>0</th>\n",
       "      <td>9.472222</td>\n",
       "      <td>7.388889</td>\n",
       "      <td>0.89</td>\n",
       "    </tr>\n",
       "    <tr>\n",
       "      <th>1</th>\n",
       "      <td>9.355556</td>\n",
       "      <td>7.227778</td>\n",
       "      <td>0.86</td>\n",
       "    </tr>\n",
       "    <tr>\n",
       "      <th>2</th>\n",
       "      <td>9.377778</td>\n",
       "      <td>9.377778</td>\n",
       "      <td>0.89</td>\n",
       "    </tr>\n",
       "    <tr>\n",
       "      <th>3</th>\n",
       "      <td>8.288889</td>\n",
       "      <td>5.944444</td>\n",
       "      <td>0.83</td>\n",
       "    </tr>\n",
       "    <tr>\n",
       "      <th>4</th>\n",
       "      <td>8.755556</td>\n",
       "      <td>6.977778</td>\n",
       "      <td>0.83</td>\n",
       "    </tr>\n",
       "  </tbody>\n",
       "</table>\n",
       "</div>"
      ],
      "text/plain": [
       "   Temperature (C)  Apparent Temperature (C)  Humidity\n",
       "0         9.472222                  7.388889      0.89\n",
       "1         9.355556                  7.227778      0.86\n",
       "2         9.377778                  9.377778      0.89\n",
       "3         8.288889                  5.944444      0.83\n",
       "4         8.755556                  6.977778      0.83"
      ]
     },
     "execution_count": 30,
     "metadata": {},
     "output_type": "execute_result"
    }
   ],
   "source": [
    "df.head()"
   ]
  },
  {
   "cell_type": "code",
   "execution_count": 51,
   "metadata": {},
   "outputs": [
    {
     "name": "stdout",
     "output_type": "stream",
     "text": [
      "101.41828318854094\n",
      "--------------\n",
      "[[ 91.23203712 101.41828319]\n",
      " [101.41828319 114.42254413]]\n",
      "--------------\n",
      "0.9926285641920893\n",
      "--------------\n",
      "[[1.         0.99262856]\n",
      " [0.99262856 1.        ]]\n"
     ]
    }
   ],
   "source": [
    "Covariance = df[['Temperature (C)', 'Apparent Temperature (C)']].cov().iloc[0,1]\n",
    "cov = np.cov(df['Temperature (C)'],df['Apparent Temperature (C)'])\n",
    "Correlation_Cof = df[['Temperature (C)', 'Apparent Temperature (C)']].corr().iloc[0, 1]\n",
    "corr = np.corrcoef(df['Temperature (C)'],df['Apparent Temperature (C)'])\n",
    "\n",
    "print(Covariance)\n",
    "print(\"--------------\")\n",
    "print(cov)\n",
    "print(\"--------------\")\n",
    "print(Correlation_Cof)\n",
    "print(\"--------------\")\n",
    "print(corr)"
   ]
  },
  {
   "cell_type": "code",
   "execution_count": 14,
   "metadata": {},
   "outputs": [
    {
     "name": "stdout",
     "output_type": "stream",
     "text": [
      "Covariance:  [[101.41828319]]\n",
      "---------------------------------------------------\n",
      "np.cov(): \n",
      " [[ 91.23203712 101.41828319]\n",
      " [101.41828319 114.42254413]]\n",
      "---------------------------------------------------\n",
      "Correlation Cof:  [[0.99262856]]\n",
      "---------------------------------------------------\n",
      "np.corrcoef(): \n",
      " [[1.         0.99262856]\n",
      " [0.99262856 1.        ]]\n"
     ]
    }
   ],
   "source": [
    "#type your code here:\n",
    "\n"
   ]
  },
  {
   "cell_type": "markdown",
   "metadata": {},
   "source": [
    "## Temperature and Humidity"
   ]
  },
  {
   "cell_type": "code",
   "execution_count": 52,
   "metadata": {},
   "outputs": [
    {
     "name": "stdout",
     "output_type": "stream",
     "text": [
      "-1.1804617897851366\n",
      "--------------\n",
      "[[ 9.12320371e+01 -1.18046179e+00]\n",
      " [-1.18046179e+00  3.82095917e-02]]\n",
      "--------------\n",
      "-0.6322546750264367\n",
      "--------------\n",
      "[[ 1.         -0.63225468]\n",
      " [-0.63225468  1.        ]]\n"
     ]
    }
   ],
   "source": [
    "Covariance = df[['Temperature (C)', 'Humidity']].cov().iloc[0,1]\n",
    "cov = np.cov(df['Temperature (C)'],df['Humidity'])\n",
    "Correlation_Cof = df[['Temperature (C)', 'Humidity']].corr().iloc[0, 1]\n",
    "corr = np.corrcoef(df['Temperature (C)'],df['Humidity'])\n",
    "\n",
    "print(Covariance)\n",
    "print(\"--------------\")\n",
    "print(cov)\n",
    "print(\"--------------\")\n",
    "print(Correlation_Cof)\n",
    "print(\"--------------\")\n",
    "print(corr)"
   ]
  },
  {
   "cell_type": "code",
   "execution_count": 15,
   "metadata": {},
   "outputs": [
    {
     "name": "stdout",
     "output_type": "stream",
     "text": [
      "Covariance:  [[-1.18046179]]\n",
      "---------------------------------------------------\n",
      "np.cov(): \n",
      " [[ 9.12320371e+01 -1.18046179e+00]\n",
      " [-1.18046179e+00  3.82095917e-02]]\n",
      "---------------------------------------------------\n",
      "Correlation Cof:  [[-0.63225468]]\n",
      "---------------------------------------------------\n",
      "np.corrcoef(): \n",
      " [[ 1.         -0.63225468]\n",
      " [-0.63225468  1.        ]]\n"
     ]
    }
   ],
   "source": [
    "#type your code here:\n"
   ]
  }
 ],
 "metadata": {
  "kernelspec": {
   "display_name": "Python 3",
   "language": "python",
   "name": "python3"
  },
  "language_info": {
   "codemirror_mode": {
    "name": "ipython",
    "version": 3
   },
   "file_extension": ".py",
   "mimetype": "text/x-python",
   "name": "python",
   "nbconvert_exporter": "python",
   "pygments_lexer": "ipython3",
   "version": "3.13.0"
  }
 },
 "nbformat": 4,
 "nbformat_minor": 4
}
