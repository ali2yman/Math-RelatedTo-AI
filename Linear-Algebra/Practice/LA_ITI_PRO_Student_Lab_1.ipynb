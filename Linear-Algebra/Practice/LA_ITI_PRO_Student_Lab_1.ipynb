{
 "cells": [
  {
   "cell_type": "markdown",
   "metadata": {
    "id": "YEfSAA09NSgf"
   },
   "source": [
    "# LAB 1: Matrix and Vector Computations in python\n",
    "In this lab you will use python to study the following topics:\n",
    "\n",
    "- How to create matrices and vectors in python.\n",
    "\n",
    "- How to manipulate matrices in python and create matrices of special types.\n",
    "\n",
    "- How to add matrices and multiply a vector by a matrix by python.\n",
    "\n",
    "- Solving System of Linear Equations Using Gaussian Elimination.\n",
    "\n",
    "- Matrix Multiplication using Different views."
   ]
  },
  {
   "cell_type": "markdown",
   "metadata": {
    "id": "YW_e78AZNSgg"
   },
   "source": [
    "# First: you should run this cell"
   ]
  },
  {
   "cell_type": "code",
   "execution_count": 4,
   "metadata": {
    "id": "XlsYx9M6NSgh"
   },
   "outputs": [],
   "source": [
    "# Make all numpy available via shorter 'np' prefix\n",
    "# %pip install sympy\n",
    "import numpy as np\n",
    "import sympy as sym"
   ]
  },
  {
   "cell_type": "markdown",
   "metadata": {
    "id": "sFL6kddWNSgh"
   },
   "source": [
    "# Question 1 :Declaring scalars, vectors, and matrices\n",
    "\n",
    "a) Use [numpy.array](https://numpy.org/doc/stable/reference/generated/numpy.array.html) to declare the following:\n",
    "\n",
    "1. A scalar $s = 5$\n",
    "2. A vector $v = \\begin{bmatrix} 5  \\\\ -2 \\\\ 4  \\\\ \\end{bmatrix}$\n",
    "3. A matrix $A = \\begin{bmatrix} 1 & 2 & 3  \\\\ 4 & 5 & 6 \\\\ 7 & 8 & 9  \\\\ \\end{bmatrix}$\n",
    "4. A matrix $B = \\begin{bmatrix} 1 & 2 & 3  \\\\ 4 & 5 & 6 \\\\ \\end{bmatrix}$\n",
    "5. A matrix $C = \\begin{bmatrix} 1 & 2   \\\\ 3 & 4  \\\\ 5 & 6   \\\\ \\end{bmatrix}$"
   ]
  },
  {
   "cell_type": "code",
   "execution_count": 5,
   "metadata": {
    "colab": {
     "base_uri": "https://localhost:8080/"
    },
    "id": "7FgtdOU4NpEv",
    "outputId": "7284258e-2a98-4923-c033-0d6f0d59c912"
   },
   "outputs": [
    {
     "name": "stdout",
     "output_type": "stream",
     "text": [
      "5\n",
      "[[ 5]\n",
      " [-2]\n",
      " [ 4]]\n",
      "[[1 2 3]\n",
      " [4 5 6]\n",
      " [7 8 9]]\n",
      "[[1 2 3]\n",
      " [4 5 6]]\n",
      "[[1 2]\n",
      " [3 4]\n",
      " [5 6]]\n"
     ]
    }
   ],
   "source": [
    "s = np.array(5)\n",
    "v = np.array([[5],[-2],[4]])\n",
    "A = np.array([[1,2,3],[4,5,6],[7,8,9]])\n",
    "B = np.array([[1,2,3],[4,5,6]])\n",
    "C = np.array([[1,2],[3,4],[5,6]])\n",
    "\n",
    "print(s)\n",
    "print(v)\n",
    "print(A)\n",
    "print(B)\n",
    "print(C)"
   ]
  },
  {
   "cell_type": "code",
   "execution_count": null,
   "metadata": {
    "id": "pthtEYIMNSgi",
    "outputId": "1be3cf65-a73e-411f-a456-b99d204f2b26"
   },
   "outputs": [
    {
     "name": "stdout",
     "output_type": "stream",
     "text": [
      "s = 5\n",
      "\n",
      "v =\n",
      " [[ 5]\n",
      " [-2]\n",
      " [ 4]]\n",
      "\n",
      "A =\n",
      " [[1 2 3]\n",
      " [4 5 6]\n",
      " [7 8 9]]\n",
      "\n",
      "B =\n",
      " [[1 2 3]\n",
      " [4 5 6]]\n",
      "\n",
      "C =\n",
      " [[1 2]\n",
      " [3 4]\n",
      " [5 6]]\n",
      "\n"
     ]
    }
   ],
   "source": [
    "#type your code here:\n"
   ]
  },
  {
   "cell_type": "code",
   "execution_count": 6,
   "metadata": {
    "colab": {
     "base_uri": "https://localhost:8080/"
    },
    "id": "_ebW8Ou6PHFa",
    "outputId": "ae332276-cca8-4041-b7cd-d44969eb7d0c"
   },
   "outputs": [
    {
     "name": "stdout",
     "output_type": "stream",
     "text": [
      "type(s) <class 'numpy.ndarray'>\n",
      "type(v) <class 'numpy.ndarray'>\n",
      "type(A) <class 'numpy.ndarray'>\n"
     ]
    }
   ],
   "source": [
    "print(f\"type(s) {type(s)}\")\n",
    "print(f\"type(v) {type(v)}\")\n",
    "print(f\"type(A) {type(A)}\")\n"
   ]
  },
  {
   "cell_type": "markdown",
   "metadata": {
    "id": "lenzhCaFNSgj"
   },
   "source": [
    "b) Print the data type of $s, v,$ and $A$ using `type` command in python."
   ]
  },
  {
   "cell_type": "code",
   "execution_count": null,
   "metadata": {
    "id": "fIuBqYR9NSgj",
    "outputId": "f46bd576-5ddb-40a3-e2c3-4194faf7454e"
   },
   "outputs": [
    {
     "name": "stdout",
     "output_type": "stream",
     "text": [
      "type(s) = <class 'numpy.ndarray'>\n",
      "\n",
      "type(v) = <class 'numpy.ndarray'>\n",
      "\n",
      "type(A) = <class 'numpy.ndarray'>\n",
      "\n"
     ]
    }
   ],
   "source": [
    "#type your code here:\n"
   ]
  },
  {
   "cell_type": "code",
   "execution_count": 7,
   "metadata": {
    "colab": {
     "base_uri": "https://localhost:8080/"
    },
    "id": "ttZP_6pLPtkY",
    "outputId": "d032e5d0-ac74-41a4-c40d-159fbc13b837"
   },
   "outputs": [
    {
     "name": "stdout",
     "output_type": "stream",
     "text": [
      "()\n",
      "(3, 1)\n",
      "(3, 3)\n",
      "(2, 3)\n",
      "(3, 2)\n"
     ]
    }
   ],
   "source": [
    "print(s.shape)\n",
    "print(v.shape)\n",
    "print(A.shape)\n",
    "print(B.shape)\n",
    "print(C.shape)"
   ]
  },
  {
   "cell_type": "markdown",
   "metadata": {
    "id": "niWI-ZNTNSgj"
   },
   "source": [
    "c) Using [numpy.shape](https://numpy.org/devdocs/reference/generated/numpy.shape.html) or `A.shape` print the shape of $s, v, A, B,$ and $C$."
   ]
  },
  {
   "cell_type": "code",
   "execution_count": null,
   "metadata": {
    "id": "ctyOB0YHNSgj",
    "outputId": "2f7e19f2-efae-403f-df4f-aa860d50cdf8"
   },
   "outputs": [
    {
     "name": "stdout",
     "output_type": "stream",
     "text": [
      "s.shape = ()\n",
      "\n",
      "v.shape = (3, 1)\n",
      "\n",
      "A.shape = (3, 3)\n",
      "\n",
      "B.shape = (2, 3)\n",
      "\n",
      "C.shape = (3, 2)\n",
      "\n"
     ]
    }
   ],
   "source": [
    "#type your code here:\n"
   ]
  },
  {
   "cell_type": "markdown",
   "metadata": {
    "id": "ie9B7IfBNSgj"
   },
   "source": [
    "d) To access a given entry in the `numpy array` put the `row number - 1` and `column number - 1` in square brackets following the array name. Ex `a32 = A[2, 1]`.\n",
    "- Print the value of the third row and the second column of the matrix $A$.\n",
    "- Change it to $10$.\n",
    "- Print the matrix A to check the entry is changed."
   ]
  },
  {
   "cell_type": "code",
   "execution_count": 8,
   "metadata": {
    "colab": {
     "base_uri": "https://localhost:8080/"
    },
    "id": "v21yhnU3Qac_",
    "outputId": "57268c34-5ac9-46f7-ba96-a187fc2c74ab"
   },
   "outputs": [
    {
     "name": "stdout",
     "output_type": "stream",
     "text": [
      "8\n",
      "[[ 1  2  3]\n",
      " [ 4  5  6]\n",
      " [ 7 10  9]]\n"
     ]
    }
   ],
   "source": [
    "x = A[2][1]\n",
    "print(x)\n",
    "A[2][1] = 10\n",
    "print(A)"
   ]
  },
  {
   "cell_type": "code",
   "execution_count": null,
   "metadata": {
    "id": "H0n2VormNSgj",
    "outputId": "bc8d954c-0903-498e-d7f2-99e9af16b7da"
   },
   "outputs": [
    {
     "name": "stdout",
     "output_type": "stream",
     "text": [
      "A[2, 1] =  8\n",
      "\n",
      "A =\n",
      " [[ 1  2  3]\n",
      " [ 4  5  6]\n",
      " [ 7 10  9]]\n",
      "\n"
     ]
    }
   ],
   "source": [
    "#type your code here:\n"
   ]
  },
  {
   "cell_type": "markdown",
   "metadata": {
    "id": "WaCAh3DBNSgk"
   },
   "source": [
    "e)To access a whole row or column of a matrix, use the colon operator. For example, `A[:, [1]]` is the second column of A, while `B[[1], :]` is the second row of B."
   ]
  },
  {
   "cell_type": "code",
   "execution_count": 9,
   "metadata": {
    "colab": {
     "base_uri": "https://localhost:8080/"
    },
    "id": "NGc_yyEwUc_a",
    "outputId": "397f21e0-f70e-479a-80f5-fc1fa02bc1b7"
   },
   "outputs": [
    {
     "name": "stdout",
     "output_type": "stream",
     "text": [
      "[[ 2]\n",
      " [ 5]\n",
      " [10]]\n",
      "[[4 5 6]]\n"
     ]
    }
   ],
   "source": [
    "print(A[:, [1]])  # aw momken n3mlha kda >>> A[:, 1] >> bs hn7tag nzwd dimension\n",
    "print(B[[1], :])"
   ]
  },
  {
   "cell_type": "code",
   "execution_count": null,
   "metadata": {
    "id": "nabKERdFNSgk",
    "outputId": "a335c7e9-84e0-4178-ab3f-dbf28ef0c80b"
   },
   "outputs": [
    {
     "name": "stdout",
     "output_type": "stream",
     "text": [
      "A[:, [1]] =\n",
      " [[ 2]\n",
      " [ 5]\n",
      " [10]]\n",
      "\n",
      "B[[1], :] =\n",
      " [[4 5 6]]\n",
      "\n"
     ]
    }
   ],
   "source": [
    "#type your code here:\n"
   ]
  },
  {
   "cell_type": "markdown",
   "metadata": {
    "id": "XXuVsOiANSgk"
   },
   "source": [
    "f) Type each of the following commands that generate special matrices:\n",
    "- `np.eye(4), np.zeros(3), np.zeros((3, 1)), np.zeros((3, 5)), np.ones((2, 3)), and np.diag([4, 5, 6, 7])`"
   ]
  },
  {
   "cell_type": "code",
   "execution_count": 10,
   "metadata": {
    "colab": {
     "base_uri": "https://localhost:8080/"
    },
    "id": "Q7qeBIdGVKv7",
    "outputId": "94e62445-48a5-4269-e35a-fe78d925aa9b"
   },
   "outputs": [
    {
     "name": "stdout",
     "output_type": "stream",
     "text": [
      "[[1. 0. 0. 0.]\n",
      " [0. 1. 0. 0.]\n",
      " [0. 0. 1. 0.]\n",
      " [0. 0. 0. 1.]]\n",
      "--------------------------------------------------\n",
      "[0. 0. 0.]\n",
      "--------------------------------------------------\n",
      "[[0.]\n",
      " [0.]\n",
      " [0.]]\n",
      "--------------------------------------------------\n",
      "[[0. 0. 0. 0. 0.]\n",
      " [0. 0. 0. 0. 0.]\n",
      " [0. 0. 0. 0. 0.]]\n",
      "--------------------------------------------------\n",
      "[[1. 1. 1.]\n",
      " [1. 1. 1.]]\n",
      "--------------------------------------------------\n",
      "[[4 0 0 0]\n",
      " [0 5 0 0]\n",
      " [0 0 6 0]\n",
      " [0 0 0 7]]\n"
     ]
    }
   ],
   "source": [
    "x = np.eye(4)\n",
    "y = np.zeros(3)\n",
    "z = np.zeros((3,1))\n",
    "m = np.zeros((3,5))\n",
    "n = np.ones((2,3))\n",
    "p = np.diag([4,5,6,7])\n",
    "\n",
    "print(x)\n",
    "print(50*\"-\")\n",
    "print(y)\n",
    "print(50*\"-\")\n",
    "print(z)\n",
    "print(50*\"-\")\n",
    "print(m)\n",
    "print(50*\"-\")\n",
    "print(n)\n",
    "print(50*\"-\")\n",
    "print(p)"
   ]
  },
  {
   "cell_type": "code",
   "execution_count": null,
   "metadata": {
    "id": "GDNOxJ9WNSgk",
    "outputId": "03c02460-3f8f-4d1a-c07f-55e0a90149f4"
   },
   "outputs": [
    {
     "name": "stdout",
     "output_type": "stream",
     "text": [
      "np.eye(4) =\n",
      " [[1. 0. 0. 0.]\n",
      " [0. 1. 0. 0.]\n",
      " [0. 0. 1. 0.]\n",
      " [0. 0. 0. 1.]]\n",
      "\n",
      "np.zeros(3) =\n",
      " [0. 0. 0.]\n",
      "\n",
      "np.zeros(3, 1) =\n",
      " [[0.]\n",
      " [0.]\n",
      " [0.]]\n",
      "\n",
      "np.zeros(3, 5) =\n",
      " [[0. 0. 0. 0. 0.]\n",
      " [0. 0. 0. 0. 0.]\n",
      " [0. 0. 0. 0. 0.]]\n",
      "\n",
      "np.ones(2, 3) =\n",
      " [[1. 1. 1.]\n",
      " [1. 1. 1.]]\n",
      "\n",
      "np.diag([4 5 6 7]) =\n",
      " [[4 0 0 0]\n",
      " [0 5 0 0]\n",
      " [0 0 6 0]\n",
      " [0 0 0 7]]\n"
     ]
    }
   ],
   "source": [
    "#type your code here:\n"
   ]
  },
  {
   "cell_type": "markdown",
   "metadata": {
    "id": "8KYDfYMhNSgk"
   },
   "source": [
    "# Question 2. Vectors Addition, Scaling, and dot product"
   ]
  },
  {
   "cell_type": "markdown",
   "metadata": {
    "id": "kcYVlpSKNSgk"
   },
   "source": [
    "a) Declare vectors $v1 = \\begin{bmatrix} 1  \\\\ 2 \\\\ 7  \\\\ 4 \\\\ \\end{bmatrix}$ and $v2 = \\begin{bmatrix} 4  \\\\ 3 \\\\ 6  \\\\ 8 \\\\ \\end{bmatrix}$\n",
    "\n",
    "- Addition: $v1 + v2$\n",
    "- Subtraction: $v1 - v2$\n",
    "- Scaling by a number: $3 * v1$\n",
    "- Scaling by a number: $v1 / 2$"
   ]
  },
  {
   "cell_type": "code",
   "execution_count": 11,
   "metadata": {
    "colab": {
     "base_uri": "https://localhost:8080/"
    },
    "id": "7ifTrtMnsEra",
    "outputId": "246f2fdd-c355-4b5b-c5f2-3e72edf3464a"
   },
   "outputs": [
    {
     "name": "stdout",
     "output_type": "stream",
     "text": [
      "[[1]\n",
      " [2]\n",
      " [7]\n",
      " [4]]\n",
      "--------------------------------------------------\n",
      "[[4]\n",
      " [3]\n",
      " [6]\n",
      " [8]]\n",
      "--------------------------------------------------\n",
      "[[ 5]\n",
      " [ 5]\n",
      " [13]\n",
      " [12]]\n",
      "--------------------------------------------------\n",
      "[[-3]\n",
      " [-1]\n",
      " [ 1]\n",
      " [-4]]\n",
      "--------------------------------------------------\n",
      "[[ 3]\n",
      " [ 6]\n",
      " [21]\n",
      " [12]]\n",
      "--------------------------------------------------\n",
      "[[0.5]\n",
      " [1. ]\n",
      " [3.5]\n",
      " [2. ]]\n"
     ]
    }
   ],
   "source": [
    "v1 = np.array([1,2,7,4]).reshape(4,1)\n",
    "v2 = np.array([4,3,6,8]).reshape(4,1)\n",
    "print(v1)\n",
    "print(50*\"-\")\n",
    "print(v2)\n",
    "print(50*\"-\")\n",
    "print(v1+v2)\n",
    "print(50*\"-\")\n",
    "print(v1-v2)\n",
    "print(50*\"-\")\n",
    "print(3*v1)\n",
    "print(50*\"-\")\n",
    "print(v1/2)"
   ]
  },
  {
   "cell_type": "code",
   "execution_count": null,
   "metadata": {
    "id": "Ak8DC54TNSgl",
    "outputId": "b7d6a779-64ae-4152-a103-b8d2c18a89cf"
   },
   "outputs": [
    {
     "name": "stdout",
     "output_type": "stream",
     "text": [
      "v1 =\n",
      " [[1]\n",
      " [2]\n",
      " [7]\n",
      " [4]]\n",
      "\n",
      "v2 =\n",
      " [[4]\n",
      " [3]\n",
      " [6]\n",
      " [8]]\n",
      "\n",
      "v1 + v2 =\n",
      " [[ 5]\n",
      " [ 5]\n",
      " [13]\n",
      " [12]]\n",
      "\n",
      "v1 - v2 =\n",
      " [[-3]\n",
      " [-1]\n",
      " [ 1]\n",
      " [-4]]\n",
      "\n",
      "3*v1 =\n",
      " [[ 3]\n",
      " [ 6]\n",
      " [21]\n",
      " [12]]\n",
      "\n",
      "v1/2 =\n",
      " [[0.5]\n",
      " [1. ]\n",
      " [3.5]\n",
      " [2. ]]\n",
      "\n"
     ]
    }
   ],
   "source": [
    "#type your code here:\n"
   ]
  },
  {
   "cell_type": "markdown",
   "metadata": {
    "id": "j0ZLobgYNSgl"
   },
   "source": [
    "b) Find the dot product between the two vectors $v1$ and $v2$ using the following:\n",
    "\n",
    "- [numpy.dot](https://numpy.org/doc/stable/reference/generated/numpy.dot.html)\n",
    "- [numpy.matmul](https://numpy.org/doc/stable/reference/generated/numpy.matmul.html#numpy.matmul)\n",
    "- `v1.T @ v2`"
   ]
  },
  {
   "cell_type": "code",
   "execution_count": 12,
   "metadata": {
    "colab": {
     "base_uri": "https://localhost:8080/"
    },
    "id": "R5rWdoAVtDJt",
    "outputId": "1ccd4077-833e-4404-b64d-26244ce71842"
   },
   "outputs": [
    {
     "name": "stdout",
     "output_type": "stream",
     "text": [
      "[[84]]\n",
      "--------------------------------------------------\n",
      "[[84]]\n",
      "--------------------------------------------------\n",
      "[[84]]\n"
     ]
    }
   ],
   "source": [
    "dot = np.dot(v1.T,v2)\n",
    "print(dot)\n",
    "print(50*\"-\")\n",
    "matmul = np.matmul(v1.T,v2)\n",
    "print(matmul)\n",
    "print(50*\"-\")\n",
    "print(v1.T @ v2)"
   ]
  },
  {
   "cell_type": "code",
   "execution_count": null,
   "metadata": {
    "id": "hvNVmRszNSgl",
    "outputId": "aef68e0a-d4e2-4089-da06-ba1c9989a7f0"
   },
   "outputs": [
    {
     "name": "stdout",
     "output_type": "stream",
     "text": [
      "Using numpy.dot =\n",
      " [[84]]\n",
      "\n",
      "Using numpy.matmul =\n",
      " [[84]]\n",
      "\n",
      "Using @ =\n",
      " [[84]]\n",
      "\n"
     ]
    }
   ],
   "source": [
    "#type your code here:\n"
   ]
  },
  {
   "cell_type": "markdown",
   "metadata": {
    "id": "Nl3zayJ4NSgl"
   },
   "source": [
    "c) Find the length of the vectors $v1$ and $v2$.\n",
    "- Using [numpy.linalg.norm](https://numpy.org/doc/stable/reference/generated/numpy.linalg.norm.html)\n",
    "- Using the dot product and [numpy.sqrt](https://numpy.org/doc/stable/reference/generated/numpy.sqrt.html)\n"
   ]
  },
  {
   "attachments": {
    "image-2.png": {
     "image/png": "[encoded data removed]"
    },
    "image.png": {
     "image/png": "[encoded data removed]"
    }
   },
   "cell_type": "markdown",
   "metadata": {},
   "source": [
    "![image.png](attachment:image.png)\n",
    "![image-2.png](attachment:image-2.png)"
   ]
  },
  {
   "cell_type": "code",
   "execution_count": 16,
   "metadata": {
    "colab": {
     "base_uri": "https://localhost:8080/"
    },
    "id": "NceA7gp1tgWn",
    "outputId": "7c9ab027-7e00-4489-f69c-b5782e37a465"
   },
   "outputs": [
    {
     "name": "stdout",
     "output_type": "stream",
     "text": [
      "8.366600265340756\n",
      "11.180339887498949\n",
      "--------------------------------------------------\n",
      "[[8.36660027]]\n",
      "[[11.18033989]]\n"
     ]
    }
   ],
   "source": [
    "len_v1 = np.linalg.norm(v1)\n",
    "len_v2 = np.linalg.norm(v2)\n",
    "print(len_v1)\n",
    "print(len_v2)\n",
    "print(50*\"-\")\n",
    "len_v1_2 = np.sqrt(v1.T@v1)\n",
    "len_v2_2 = np.sqrt(v2.T@v2)\n",
    "print(len_v1_2)\n",
    "print(len_v2_2)"
   ]
  },
  {
   "cell_type": "code",
   "execution_count": null,
   "metadata": {
    "id": "Ur2CIg6ZNSgl",
    "outputId": "9f31b4d2-73e2-4888-8eed-89ec20cf818b"
   },
   "outputs": [
    {
     "name": "stdout",
     "output_type": "stream",
     "text": [
      "length of v1 Using numpy.linalg.norm =\n",
      " 8.366600265340756\n",
      "\n",
      "length of v2 Using numpy.linalg.norm =\n",
      " 11.180339887498949\n",
      "\n",
      "length of v1 Using the dot product and numpy.sqrt =\n",
      " [[8.36660027]]\n",
      "\n",
      "length of v2 Using the dot product and numpy.sqrt =\n",
      " [[11.18033989]]\n",
      "\n"
     ]
    }
   ],
   "source": [
    "#type your code here:\n"
   ]
  },
  {
   "cell_type": "markdown",
   "metadata": {
    "id": "n3-y3B_TNSgl"
   },
   "source": [
    "d) Show that the vectors $u = \\begin{bmatrix} 3  \\\\ 2 \\\\ -1  \\\\ 4 \\\\ \\end{bmatrix}$ and $v = \\begin{bmatrix} 1  \\\\ -1 \\\\ 1  \\\\ 0 \\\\ \\end{bmatrix}$ are orthogonal.\n"
   ]
  },
  {
   "cell_type": "markdown",
   "metadata": {},
   "source": [
    "Orthogonal >>> y3ni mot3amdeen 3la b3d >> el angle bynhom 90 >> multiplication between 2 vectores  = 0"
   ]
  },
  {
   "cell_type": "code",
   "execution_count": 19,
   "metadata": {},
   "outputs": [
    {
     "name": "stdout",
     "output_type": "stream",
     "text": [
      "[[0]]\n"
     ]
    }
   ],
   "source": [
    "u = np.array([3,2,-1,4]).reshape(4,1)\n",
    "v = np.array([1,-1,1,0]).reshape(4,1)\n",
    "\n",
    "print(u.T@v)"
   ]
  },
  {
   "cell_type": "code",
   "execution_count": null,
   "metadata": {
    "id": "4uI_7myBNSgm",
    "outputId": "d10f1597-8257-4833-cc4d-27a3d5fcb526"
   },
   "outputs": [
    {
     "name": "stdout",
     "output_type": "stream",
     "text": [
      "u.T @ v =\n",
      " [[0]]\n",
      "\n"
     ]
    }
   ],
   "source": [
    "#type your code here:\n"
   ]
  },
  {
   "cell_type": "markdown",
   "metadata": {
    "id": "-s8soMvgNSgm"
   },
   "source": [
    "# Question 3. Matrix Addition and Matrix-Vector Multiplication\n",
    "\n",
    "Declare vectors $u$ and $v$ and matrices $A$ and $B$ as following:\n",
    "- $u = \\begin{bmatrix} 2  \\\\ 7 \\\\ 2 \\\\ \\end{bmatrix}$, $v = \\begin{bmatrix} 8  \\\\ 2 \\\\ 4 \\\\ \\end{bmatrix}$\n",
    "- $A = \\begin{bmatrix} 7 & 3 & 5  \\\\ 4 & 6 & 2 \\\\ \\end{bmatrix}$, $B = \\begin{bmatrix} 0 & 6 & 4  \\\\ 2 & 3 & 0 \\\\ \\end{bmatrix}$\n",
    "\n",
    "a) Calculate the following using python.\n",
    "\n",
    "- $A+B$\n",
    "- $B+A$\n",
    "- $3A$\n",
    "- $6B$\n",
    "- $2(3B)$\n",
    "- $6A+15B$\n",
    "- $3(2A+5B)$\n",
    "- $(3A^T)^T$"
   ]
  },
  {
   "cell_type": "code",
   "execution_count": 25,
   "metadata": {},
   "outputs": [
    {
     "name": "stdout",
     "output_type": "stream",
     "text": [
      "[[2]\n",
      " [7]\n",
      " [2]]\n",
      "--------------------------------------------------\n",
      "[[8]\n",
      " [2]\n",
      " [4]]\n",
      "--------------------------------------------------\n",
      "[[7 3 5]\n",
      " [4 6 2]]\n",
      "--------------------------------------------------\n",
      "[[0 6 4]\n",
      " [2 3 0]]\n",
      "--------------------------------------------------\n",
      "[[7 9 9]\n",
      " [6 9 2]]\n",
      "--------------------------------------------------\n",
      "[[7 9 9]\n",
      " [6 9 2]]\n",
      "--------------------------------------------------\n",
      "[[21  9 15]\n",
      " [12 18  6]]\n",
      "--------------------------------------------------\n",
      "[[ 0 36 24]\n",
      " [12 18  0]]\n",
      "--------------------------------------------------\n",
      "[[ 0 36 24]\n",
      " [12 18  0]]\n",
      "--------------------------------------------------\n",
      "[[ 42 108  90]\n",
      " [ 54  81  12]]\n",
      "--------------------------------------------------\n",
      "[[ 42 108  90]\n",
      " [ 54  81  12]]\n",
      "--------------------------------------------------\n",
      "[[21  9 15]\n",
      " [12 18  6]]\n"
     ]
    }
   ],
   "source": [
    "u = np.array([[2,7,2]]).reshape(3,1)\n",
    "v = np.array([[8,2,4]]).reshape(3,1)\n",
    "A = np.array([[7,3,5],[4,6,2]])\n",
    "B = np.array([[0,6,4],[2,3,0]])\n",
    "\n",
    "print(u)\n",
    "print(50*\"-\")\n",
    "print(v)\n",
    "print(50*\"-\")\n",
    "print(A)\n",
    "print(50*\"-\")\n",
    "print(B)\n",
    "print(50*\"-\")\n",
    "\n",
    "print(A+B)\n",
    "print(50*\"-\")\n",
    "print(B+A)\n",
    "print(50*\"-\")\n",
    "print(3*A)\n",
    "print(50*\"-\")\n",
    "print(6*B)\n",
    "print(50*\"-\")\n",
    "print(2*(3*B))\n",
    "print(50*\"-\")\n",
    "print((6*A)+(15*B))\n",
    "print(50*\"-\")\n",
    "print(3*((2*A)+(5*B)))\n",
    "print(50*\"-\")\n",
    "print((3*A.T).T)"
   ]
  },
  {
   "cell_type": "code",
   "execution_count": null,
   "metadata": {
    "id": "wKxSdUylNSgm",
    "outputId": "1b162460-cff8-47db-e730-bac4d0319ce2"
   },
   "outputs": [
    {
     "name": "stdout",
     "output_type": "stream",
     "text": [
      "u =\n",
      " [[2]\n",
      " [7]\n",
      " [2]]\n",
      "\n",
      "v =\n",
      " [[8]\n",
      " [2]\n",
      " [4]]\n",
      "\n",
      "A =\n",
      " [[7 3 5]\n",
      " [4 6 2]]\n",
      "\n",
      "B =\n",
      " [[0 6 4]\n",
      " [2 3 0]]\n",
      "\n",
      "A + B =\n",
      " [[7 9 9]\n",
      " [6 9 2]]\n",
      "\n",
      "B + A =\n",
      " [[7 9 9]\n",
      " [6 9 2]]\n",
      "\n",
      "3A =\n",
      " [[21  9 15]\n",
      " [12 18  6]]\n",
      "\n",
      "6B =\n",
      " [[ 0 36 24]\n",
      " [12 18  0]]\n",
      "\n",
      "2(3B) =\n",
      " [[ 0 36 24]\n",
      " [12 18  0]]\n",
      "\n",
      "6A + 15B =\n",
      " [[ 42 108  90]\n",
      " [ 54  81  12]]\n",
      "\n",
      "3(2A + 5B) =\n",
      " [[ 42 108  90]\n",
      " [ 54  81  12]]\n",
      "\n",
      "\n",
      " (3A^T)^T = \n",
      " [[21  9 15]\n",
      " [12 18  6]]\n"
     ]
    }
   ],
   "source": [
    "#type your code here:\n"
   ]
  },
  {
   "cell_type": "markdown",
   "metadata": {
    "id": "CZ6FsjQzNSgm"
   },
   "source": [
    "b) To obtain the matrix-vector product $Au$ using python, type `A @ u`. Calculate the following:\n",
    "\n",
    "- $Au+Av$\n",
    "- $A(u+v)$\n",
    "- $(A+B)u$\n",
    "- $Au+Bu$\n",
    "- $A(3u)$\n",
    "- $3A(u)$"
   ]
  },
  {
   "cell_type": "code",
   "execution_count": 28,
   "metadata": {},
   "outputs": [
    {
     "name": "stdout",
     "output_type": "stream",
     "text": [
      "[[127]\n",
      " [106]]\n",
      "--------------------------------------------------\n",
      "[[127]\n",
      " [106]]\n",
      "--------------------------------------------------\n",
      "[[95]\n",
      " [79]]\n",
      "--------------------------------------------------\n",
      "[[95]\n",
      " [79]]\n",
      "--------------------------------------------------\n",
      "[[135]\n",
      " [162]]\n",
      "--------------------------------------------------\n",
      "[[135]\n",
      " [162]]\n"
     ]
    }
   ],
   "source": [
    "print(A@u + A@v)\n",
    "print(50*\"-\")\n",
    "print(A@(u+v))\n",
    "print(50*\"-\")\n",
    "print((A+B)@u)\n",
    "print(50*\"-\")\n",
    "print(A@u + B@u)\n",
    "print(50*\"-\")\n",
    "print(A@(3*u))\n",
    "print(50*\"-\")\n",
    "print((3*A)@u)"
   ]
  },
  {
   "cell_type": "code",
   "execution_count": null,
   "metadata": {
    "id": "WwARDPboNSgm",
    "outputId": "f72c037e-c7d7-4c86-c34c-cc8e6d98800f"
   },
   "outputs": [
    {
     "name": "stdout",
     "output_type": "stream",
     "text": [
      "Au + Av =\n",
      " [[127]\n",
      " [106]]\n",
      "\n",
      "A(u + v) =\n",
      " [[127]\n",
      " [106]]\n",
      "\n",
      "(A + B)u =\n",
      " [[95]\n",
      " [79]]\n",
      "\n",
      "Au + Bu =\n",
      " [[95]\n",
      " [79]]\n",
      "\n",
      "A(3u) =\n",
      " [[135]\n",
      " [162]]\n",
      "\n",
      "3A(u) =\n",
      " [[135]\n",
      " [162]]\n",
      "\n"
     ]
    }
   ],
   "source": [
    "#type your code here:\n"
   ]
  },
  {
   "cell_type": "markdown",
   "metadata": {
    "id": "i2ARoVo-NSgm"
   },
   "source": [
    "# Question 4. Gaussian Elimination and Reduced Row-Echelon Form"
   ]
  },
  {
   "attachments": {
    "image.png": {
     "image/png": "[encoded data removed]"
    }
   },
   "cell_type": "markdown",
   "metadata": {
    "id": "YPNNiBMmNSgm"
   },
   "source": [
    "You will see a step-by-step example of the row operations that transform a matrix $A$ into its reduced row echelon form $R = rref(A)$. In this demonstration, each pivot is chosen to be the largest in its column (for numerical stability), so extra row interchanges are used. Since $rref(A)$ is uniquely determined by $A$, this does not affect the final answer.\n",
    "\n",
    "The built in [rref](https://docs.sympy.org/latest/tutorial/matrices.html#rref) method `sympy.rref()` method just search for the method and its output to deal with the code.\n",
    "\n",
    "![image.png](attachment:image.png)"
   ]
  },
  {
   "cell_type": "markdown",
   "metadata": {
    "id": "184PAcrsNSgm"
   },
   "source": [
    "#### (a) Generate and display a $3 \\times 4$ matrix $A$ with random integer entries"
   ]
  },
  {
   "cell_type": "code",
   "execution_count": null,
   "metadata": {
    "id": "1EYNeD8jNSgn",
    "outputId": "bf3d2a37-7fb2-4d32-8cfc-80308d5e58c9"
   },
   "outputs": [
    {
     "name": "stdout",
     "output_type": "stream",
     "text": [
      "\n",
      " A = \n",
      " [[8. 0. 4. 1.]\n",
      " [6. 6. 2. 7.]\n",
      " [0. 1. 6. 0.]]\n"
     ]
    }
   ],
   "source": [
    "#type your code here:\n",
    "A = np.fix((10*(np.random.rand(3,4))))\n",
    "print(\"\\n A = \\n\", A)"
   ]
  },
  {
   "cell_type": "code",
   "execution_count": 103,
   "metadata": {},
   "outputs": [
    {
     "name": "stdout",
     "output_type": "stream",
     "text": [
      "[[8. 0. 4. 1.]\n",
      " [6. 6. 2. 7.]\n",
      " [0. 1. 6. 0.]]\n"
     ]
    }
   ],
   "source": [
    "A = np.array([[8,0,4,1],[6,6,2,7],[0,1,6,0]], dtype = float)\n",
    "print(A)"
   ]
  },
  {
   "cell_type": "markdown",
   "metadata": {
    "id": "B22JyF8XNSgo"
   },
   "source": [
    "- To transform $A$ into $R = rref(A)$, start with $R = A$.\n",
    "- Normalize the first row of R to get R(1st row, 1st column) = 1\n",
    "\n",
    "    - `R = A`\n",
    "    - `R[0,:] = R[0, :] / R[0, 0]`\n",
    "\n",
    "(note the use of the colon to operate on whole rows of the matrix).\n",
    "\n",
    "<div class=\"alert alert-block alert-warning\">If your random matrix happens to have A(1, 1) = 0, then interchange rows to get a nonzero entry in the (1, 1) position before doing the calculation above.</div>\n",
    "\n",
    "- Now subtract a multiple of the first row of R from the second row to make R(2, 1) = 0:\n",
    "\n",
    "    - `R[1, :] = R[1, :] - R[1, 0] * R[0, :]`\n",
    "\n",
    "- Repeat this procedure to make R(3, 1) = 0:\n",
    "\n",
    "    - `R[2, :] = R[2, :] - R[2, 0] * R[0, :]`\n",
    "\n",
    "The first column of your matrix $R$ should now be the same as the first column of $rref(A)$."
   ]
  },
  {
   "cell_type": "code",
   "execution_count": 104,
   "metadata": {},
   "outputs": [
    {
     "name": "stdout",
     "output_type": "stream",
     "text": [
      "[[ 1.     0.     0.5    0.125]\n",
      " [ 0.     6.    -1.     6.25 ]\n",
      " [ 0.     1.     6.     0.   ]]\n"
     ]
    }
   ],
   "source": [
    "R = A\n",
    "R[0,:] = R[0, :] / R[0, 0]\n",
    "R[1, :] = R[1, :] - R[1, 0] * R[0, :]\n",
    "R[2, :] = R[2, :] - R[2, 0] * R[0, :]\n",
    "\n",
    "print(R)"
   ]
  },
  {
   "cell_type": "code",
   "execution_count": null,
   "metadata": {
    "id": "7TAbkgn1NSgp",
    "outputId": "7d024a3e-9dea-4f9c-9a5b-9cfd6ab268f9"
   },
   "outputs": [
    {
     "name": "stdout",
     "output_type": "stream",
     "text": [
      "\n",
      " R = \n",
      " [[ 1.     0.     0.5    0.125]\n",
      " [ 0.     6.    -1.     6.25 ]\n",
      " [ 0.     1.     6.     0.   ]]\n"
     ]
    }
   ],
   "source": [
    "#type your code here:"
   ]
  },
  {
   "cell_type": "markdown",
   "metadata": {
    "id": "FXytq2JTNSgp"
   },
   "source": [
    "#### (b)Operate on $R$ by the same method as in (a) to obtain the second column of $rref(A)$. First normalize row $2$ of $R$, then subtract multiples of row $2$ from rows $1$ and $3$ to put zeros in the (1, 2) and (3, 2) positions. Be sure to refer to the entries in your matrix symbolically as was done in part (a)"
   ]
  },
  {
   "cell_type": "code",
   "execution_count": 105,
   "metadata": {},
   "outputs": [
    {
     "name": "stdout",
     "output_type": "stream",
     "text": [
      "[[ 1.          0.          0.5         0.125     ]\n",
      " [ 0.          1.         -0.16666667  1.04166667]\n",
      " [ 0.          0.          6.16666667 -1.04166667]]\n"
     ]
    }
   ],
   "source": [
    "R[1, :] = R[1, :] / R[1, 1]\n",
    "R[0, :] = R[0, :] - R[0, 1] * R[1, :]\n",
    "R[2, :] = R[2, :] - R[2, 1] * R[1, :]\n",
    "\n",
    "print(R)"
   ]
  },
  {
   "cell_type": "code",
   "execution_count": null,
   "metadata": {
    "id": "UPNLBCYJNSgp",
    "outputId": "ad5d863d-27b0-4be4-fb9b-1d58812a6f7f"
   },
   "outputs": [
    {
     "name": "stdout",
     "output_type": "stream",
     "text": [
      "\n",
      " R = \n",
      " [[ 1.          0.          0.5         0.125     ]\n",
      " [ 0.          1.         -0.16666667  1.04166667]\n",
      " [ 0.          0.          6.16666667 -1.04166667]]\n"
     ]
    }
   ],
   "source": [
    "#type your code here:\n"
   ]
  },
  {
   "cell_type": "markdown",
   "metadata": {
    "id": "9LdRUs2sNSgp"
   },
   "source": [
    "#### (c) Operate on $R$ by the same method as in (b) to obtain the third column of $rref(A)$. First normalize row $3$ of $R$, then subtract multiples of row $3$ from rows $1$ and $2$ to put zeros in the (1, 3) and (2, 3) positions."
   ]
  },
  {
   "cell_type": "code",
   "execution_count": 106,
   "metadata": {},
   "outputs": [
    {
     "name": "stdout",
     "output_type": "stream",
     "text": [
      "[[ 1.          0.          0.          0.20945946]\n",
      " [ 0.          1.          0.          1.01351351]\n",
      " [ 0.          0.          1.         -0.16891892]]\n"
     ]
    }
   ],
   "source": [
    "R[2, :] = R[2, :] / R[2, 2]\n",
    "R[0, :] = R[0, :] - R[0, 2] * R[2, :]\n",
    "R[1, :] = R[1, :] - R[1, 2] * R[2, :]\n",
    "\n",
    "print(R)"
   ]
  },
  {
   "cell_type": "code",
   "execution_count": null,
   "metadata": {
    "id": "ub2TIMKdNSgp",
    "outputId": "5203b032-fe3b-489c-c619-6a26eceb4cae"
   },
   "outputs": [
    {
     "name": "stdout",
     "output_type": "stream",
     "text": [
      "\n",
      " R = \n",
      " [[ 1.          0.          0.          0.20945946]\n",
      " [ 0.          1.          0.          1.01351351]\n",
      " [ 0.          0.          1.         -0.16891892]]\n"
     ]
    }
   ],
   "source": [
    "#type your code here:\n"
   ]
  },
  {
   "cell_type": "markdown",
   "metadata": {
    "id": "pKTyZiGaNSgp"
   },
   "source": [
    "#### (d) Your matrix $R$ should now be transformed into $rref(A)$ (since $A$ is a random $3 \\times 4$ matrix, $rref(A)$ is (almost) sure to have rank (3) `np.linalg.matrix_rank(R)`. Check your answer by python with the rref method . If the answer is not the same as the current value of your $R$, go back and redo your calculations.\n",
    "\n",
    "- use the the built in rref method `sympy.rref()`\n",
    "- print the output matrix in numpy array type\n",
    "\n",
    "    - `M = sym.Matrix(A)`\n",
    "    - `M_rref = M.rref()`\n",
    "    - `R = np.array((M_rref[0])).astype(np.float64)`"
   ]
  },
  {
   "cell_type": "code",
   "execution_count": null,
   "metadata": {},
   "outputs": [
    {
     "name": "stdout",
     "output_type": "stream",
     "text": [
      "--------------------------------------------------\n",
      "3\n",
      "Matrix([[1, 0, 0, 0.209459459459459], [0, 1, 0, 1.01351351351351], [0, 0, 1, -0.168918918918919]])\n"
     ]
    }
   ],
   "source": [
    "#  i find if i wanted to use sympy.rref() >> i should convert it to matrix\n",
    "# This is a direct way from sympy import Matrix\n",
    "A = np.array([[8,0,4,1],[6,6,2,7],[0,1,6,0]], dtype = float)\n",
    "# print(A)\n",
    "A = Matrix(A)\n",
    "print(50*\"-\")\n",
    "R,pivot = A.rref()\n",
    "# getting the rank\n",
    "print(len(pivot))\n",
    "print(R)\n"
   ]
  },
  {
   "cell_type": "code",
   "execution_count": null,
   "metadata": {
    "id": "e5oZa7YYNSgt",
    "outputId": "24bad9c6-dd57-4175-b7a4-e81f120123e0"
   },
   "outputs": [
    {
     "name": "stdout",
     "output_type": "stream",
     "text": [
      "\n",
      " rank = \n",
      " 3\n",
      "\n",
      " The Row echelon form of matrix M \n",
      " [[ 1.          0.          0.          0.20945946]\n",
      " [ 0.          1.          0.          1.01351351]\n",
      " [ 0.          0.          1.         -0.16891892]]\n"
     ]
    }
   ],
   "source": [
    "#type your code here:\n",
    "\n",
    "# Use sympy.rref() method\n"
   ]
  },
  {
   "cell_type": "markdown",
   "metadata": {
    "id": "RuPcRGxqNSgt"
   },
   "source": [
    "# Question 5. Matrix Multiplication using Different views"
   ]
  },
  {
   "cell_type": "markdown",
   "metadata": {
    "id": "EE8WFIcNNSgt"
   },
   "source": [
    "we discussed in the lecture four different ways about product $AB = C$ where $A$ and $B$ are arbitry matrices. If $A$ is an $m \\times n$ matrix and $B$ is an $n \\times p$ matrix, then $C$ is an $m \\times p$ matrix:\n",
    "\n",
    "1. **Standard(row times column):** The standard way of describing a matrix product is to say that $c_(ij)$ equals the dot product of row $i$ of matrix $A$ and column $j$ of matrix $B$.\n",
    "\n",
    "2. **Columns:** The product of matrix $A$ and column $j$ of matrix $B$ equals column $j$ of matrix  $C$. This tells us that the columns of $C$ are combinations of columns of $A$.\n",
    "\n",
    "3. **Rows:** The product of row $i$ of matrix $A$ and matrix $B$ equals row $i$ of matrix $C$.So the rows of $C$ are combinations of rows of $B$.\n",
    "\n",
    "4. **Column times row**: A column of $A$ is an $m \\times 1$ vector and a row of $B$ is a $1 \\times p$ vector.Their product is a matrix."
   ]
  },
  {
   "cell_type": "markdown",
   "metadata": {
    "id": "32AbvFW9NSgt"
   },
   "source": [
    "In this problem we will use python to perform the matrix multiplication using these different ways, and compute the execution time for each method time.\n",
    "\n",
    "(Write your code as a function that perform the multiplication for arbitrary size of the matrices $A$ and $B$)"
   ]
  },
  {
   "cell_type": "code",
   "execution_count": 108,
   "metadata": {
    "id": "UUR8yTmkNSgt"
   },
   "outputs": [],
   "source": [
    "def check_dimension(A, B):\n",
    "    return A.shape[1] == B.shape[0]\n",
    "\n",
    "def mat_mul_standard(A, B):\n",
    "    if not check_dimension(A, B):\n",
    "        raise Exception('Dimensions aren\\'t consistant')\n",
    "\n",
    "    m, n = A.shape\n",
    "    n, p = B.shape\n",
    "\n",
    "    C = np.zeros((m, p))\n",
    "    ################type your code here#####################\n",
    "    for i in range(m):\n",
    "        for j in range(p):\n",
    "            C[i, j] = np.dot(A[i, :], B[:, j])\n",
    "    \n",
    "\n",
    "    ########################################################\n",
    "    return C\n",
    "\n",
    "\n",
    "def mat_mul_columns(A, B):\n",
    "    if not check_dimension(A, B):\n",
    "        raise Exception('Dimensions aren\\'t consistant')\n",
    "\n",
    "    m, n = A.shape\n",
    "    n, p = B.shape\n",
    "\n",
    "    C = np.zeros((m, p))\n",
    "    ################type your code here#####################\n",
    "    for j in range(p):\n",
    "        C[:, j] = A @ B[:, j]\n",
    "\n",
    "    ########################################################\n",
    "    return C\n",
    "\n",
    "def mat_mul_rows(A, B):\n",
    "    if not check_dimension(A, B):\n",
    "        raise Exception('Dimensions aren\\'t consistant')\n",
    "\n",
    "    m, n = A.shape\n",
    "    n, p = B.shape\n",
    "\n",
    "    C = np.zeros((m, p))\n",
    "    ################type your code here#####################\n",
    "    for i in range(m):\n",
    "        C[i, :] = A[i, :] @ B\n",
    "\n",
    "    ########################################################\n",
    "    return C\n",
    "\n",
    "\n",
    "\n",
    "def mat_mul_column_times_row(A, B):\n",
    "    if not check_dimension(A, B):\n",
    "        raise Exception('Dimensions aren\\'t consistant')\n",
    "\n",
    "    m, n = A.shape\n",
    "    n, p = B.shape\n",
    "\n",
    "    C = np.zeros((m, p))\n",
    "    ################type your code here#####################\n",
    "    #  i didn't know how to do it  \n",
    "\n",
    "    ########################################################\n",
    "    return C"
   ]
  },
  {
   "cell_type": "code",
   "execution_count": null,
   "metadata": {},
   "outputs": [],
   "source": [
    "def check_dimension(A, B):\n",
    "    return A.shape[1] == B.shape[0]\n",
    "\n",
    "def mat_mul_standard(A, B):\n",
    "    if not check_dimension(A, B):\n",
    "        raise Exception('Dimensions aren\\'t consistant')\n",
    "\n",
    "    m, n = A.shape\n",
    "    n, p = B.shape\n",
    "\n",
    "    C = np.zeros((m, p))\n",
    "    ################type your code here#####################\n",
    "    \n",
    "\n",
    "    ########################################################\n",
    "    return C\n",
    "\n",
    "\n",
    "def mat_mul_columns(A, B):\n",
    "    if not check_dimension(A, B):\n",
    "        raise Exception('Dimensions aren\\'t consistant')\n",
    "\n",
    "    m, n = A.shape\n",
    "    n, p = B.shape\n",
    "\n",
    "    C = np.zeros((m, p))\n",
    "    ################type your code here#####################\n",
    "\n",
    "\n",
    "    ########################################################\n",
    "    return C\n",
    "\n",
    "def mat_mul_rows(A, B):\n",
    "    if not check_dimension(A, B):\n",
    "        raise Exception('Dimensions aren\\'t consistant')\n",
    "\n",
    "    m, n = A.shape\n",
    "    n, p = B.shape\n",
    "\n",
    "    C = np.zeros((m, p))\n",
    "    ################type your code here#####################\n",
    "    \n",
    "\n",
    "    ########################################################\n",
    "    return C\n",
    "\n",
    "\n",
    "\n",
    "def mat_mul_column_times_row(A, B):\n",
    "    if not check_dimension(A, B):\n",
    "        raise Exception('Dimensions aren\\'t consistant')\n",
    "\n",
    "    m, n = A.shape\n",
    "    n, p = B.shape\n",
    "\n",
    "    C = np.zeros((m, p))\n",
    "    ################type your code here#####################\n",
    "\n",
    "\n",
    "    ########################################################\n",
    "    return C"
   ]
  },
  {
   "cell_type": "code",
   "execution_count": 109,
   "metadata": {
    "id": "zN-iOlypNSgu"
   },
   "outputs": [],
   "source": [
    "#A = np.array([[12., 7., 3.],[4., 5., 6.],[7., 8., 9.]])\n",
    "#B = np.array([[5., 8., 1., 2.],[6., 7., 3., 0.],[4., 5., 9., 1.]])\n",
    "\n",
    "A = np.fix((10*(np.random.rand(300, 300))))\n",
    "B = np.fix((10*(np.random.rand(300, 300))))\n"
   ]
  },
  {
   "cell_type": "code",
   "execution_count": 110,
   "metadata": {
    "id": "Ml1KFdKQNSgu",
    "outputId": "6bc8e4ae-d937-4ef3-868c-60c1e97871cb"
   },
   "outputs": [
    {
     "name": "stdout",
     "output_type": "stream",
     "text": [
      "A @ B = \n",
      " [[5817. 5544. 5469. ... 5268. 5724. 5915.]\n",
      " [6468. 6409. 5956. ... 5976. 6576. 6575.]\n",
      " [6248. 6075. 5846. ... 5324. 5997. 6427.]\n",
      " ...\n",
      " [6512. 6065. 5941. ... 5423. 6075. 5940.]\n",
      " [6422. 5986. 6137. ... 5577. 6293. 6737.]\n",
      " [6633. 6166. 6176. ... 5521. 6257. 6525.]]\n",
      "CPU times: total: 0 ns\n",
      "Wall time: 44.1 ms\n"
     ]
    }
   ],
   "source": [
    "%%time\n",
    "print('A @ B = \\n', A @ B)"
   ]
  },
  {
   "cell_type": "code",
   "execution_count": 111,
   "metadata": {
    "id": "T7LaciC1NSgu",
    "outputId": "f4776a3e-07eb-4af7-e17d-28914a810669"
   },
   "outputs": [
    {
     "name": "stdout",
     "output_type": "stream",
     "text": [
      "C_standard = \n",
      " [[5817. 5544. 5469. ... 5268. 5724. 5915.]\n",
      " [6468. 6409. 5956. ... 5976. 6576. 6575.]\n",
      " [6248. 6075. 5846. ... 5324. 5997. 6427.]\n",
      " ...\n",
      " [6512. 6065. 5941. ... 5423. 6075. 5940.]\n",
      " [6422. 5986. 6137. ... 5577. 6293. 6737.]\n",
      " [6633. 6166. 6176. ... 5521. 6257. 6525.]]\n",
      "CPU times: total: 188 ms\n",
      "Wall time: 205 ms\n"
     ]
    }
   ],
   "source": [
    "%%time\n",
    "C_standard = mat_mul_standard(A, B)\n",
    "print('C_standard = \\n', C_standard)"
   ]
  },
  {
   "cell_type": "code",
   "execution_count": 112,
   "metadata": {
    "id": "RtylDcY5NSgu",
    "outputId": "3b89ceec-072f-48e7-89f3-a10771186b5d"
   },
   "outputs": [
    {
     "name": "stdout",
     "output_type": "stream",
     "text": [
      "C_columns = \n",
      " [[5817. 5544. 5469. ... 5268. 5724. 5915.]\n",
      " [6468. 6409. 5956. ... 5976. 6576. 6575.]\n",
      " [6248. 6075. 5846. ... 5324. 5997. 6427.]\n",
      " ...\n",
      " [6512. 6065. 5941. ... 5423. 6075. 5940.]\n",
      " [6422. 5986. 6137. ... 5577. 6293. 6737.]\n",
      " [6633. 6166. 6176. ... 5521. 6257. 6525.]]\n",
      "CPU times: total: 15.6 ms\n",
      "Wall time: 47.9 ms\n"
     ]
    }
   ],
   "source": [
    "%%time\n",
    "C_columns = mat_mul_columns(A, B)\n",
    "print('C_columns = \\n', C_columns)"
   ]
  },
  {
   "cell_type": "code",
   "execution_count": 113,
   "metadata": {
    "id": "QfCczpf2NSgu",
    "outputId": "82179674-1599-4618-948f-6a95125449e7"
   },
   "outputs": [
    {
     "name": "stdout",
     "output_type": "stream",
     "text": [
      "C_rows = \n",
      " [[5817. 5544. 5469. ... 5268. 5724. 5915.]\n",
      " [6468. 6409. 5956. ... 5976. 6576. 6575.]\n",
      " [6248. 6075. 5846. ... 5324. 5997. 6427.]\n",
      " ...\n",
      " [6512. 6065. 5941. ... 5423. 6075. 5940.]\n",
      " [6422. 5986. 6137. ... 5577. 6293. 6737.]\n",
      " [6633. 6166. 6176. ... 5521. 6257. 6525.]]\n",
      "CPU times: total: 0 ns\n",
      "Wall time: 10.6 ms\n"
     ]
    }
   ],
   "source": [
    "%%time\n",
    "C_rows = mat_mul_rows(A, B)\n",
    "print('C_rows = \\n', C_rows)"
   ]
  },
  {
   "cell_type": "code",
   "execution_count": null,
   "metadata": {
    "id": "DReGfg3JNSgu",
    "outputId": "15237924-f3c8-49e9-ce43-e16e15407575"
   },
   "outputs": [
    {
     "name": "stdout",
     "output_type": "stream",
     "text": [
      "C_column_times_row = \n",
      " [[5799. 5873. 5658. ... 5684. 5842. 5506.]\n",
      " [6502. 6189. 6059. ... 6430. 6313. 6102.]\n",
      " [5899. 5845. 5866. ... 6014. 5828. 5749.]\n",
      " ...\n",
      " [5930. 5906. 5791. ... 5630. 5784. 5905.]\n",
      " [5937. 5785. 6013. ... 5898. 5942. 5690.]\n",
      " [5902. 5977. 6099. ... 5526. 5979. 5745.]]\n",
      "Wall time: 80 ms\n"
     ]
    }
   ],
   "source": [
    "%%time\n",
    "C_column_times_row = mat_mul_column_times_row(A, B)\n",
    "print('C_column_times_row = \\n', C_column_times_row)"
   ]
  }
 ],
 "metadata": {
  "colab": {
   "provenance": []
  },
  "kernelspec": {
   "display_name": "Python 3",
   "language": "python",
   "name": "python3"
  },
  "language_info": {
   "codemirror_mode": {
    "name": "ipython",
    "version": 3
   },
   "file_extension": ".py",
   "mimetype": "text/x-python",
   "name": "python",
   "nbconvert_exporter": "python",
   "pygments_lexer": "ipython3",
   "version": "3.13.0"
  }
 },
 "nbformat": 4,
 "nbformat_minor": 0
}
